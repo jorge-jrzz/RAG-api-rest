{
 "cells": [
  {
   "cell_type": "code",
   "execution_count": 1,
   "metadata": {},
   "outputs": [
    {
     "name": "stdout",
     "output_type": "stream",
     "text": [
      "\n",
      "\u001b[1m[\u001b[0m\u001b[34;49mnotice\u001b[0m\u001b[1;39;49m]\u001b[0m\u001b[39;49m A new release of pip is available: \u001b[0m\u001b[31;49m24.2\u001b[0m\u001b[39;49m -> \u001b[0m\u001b[32;49m24.3.1\u001b[0m\n",
      "\u001b[1m[\u001b[0m\u001b[34;49mnotice\u001b[0m\u001b[1;39;49m]\u001b[0m\u001b[39;49m To update, run: \u001b[0m\u001b[32;49mpip install --upgrade pip\u001b[0m\n",
      "Note: you may need to restart the kernel to use updated packages.\n"
     ]
    }
   ],
   "source": [
    "%pip install -qU langchain-community pymupdf"
   ]
  },
  {
   "cell_type": "code",
   "execution_count": 26,
   "metadata": {},
   "outputs": [],
   "source": [
    "from langchain_community.document_loaders import PyMuPDFLoader\n",
    "\n",
    "loader = PyMuPDFLoader(\"/Users/jorge-jrzz/Desktop/PT/RAG-api-rest/dev/example.pdf\")"
   ]
  },
  {
   "cell_type": "code",
   "execution_count": 27,
   "metadata": {},
   "outputs": [
    {
     "data": {
      "text/plain": [
       "Document(metadata={'source': '/Users/jorge-jrzz/Desktop/PT/RAG-api-rest/dev/example.pdf', 'file_path': '/Users/jorge-jrzz/Desktop/PT/RAG-api-rest/dev/example.pdf', 'page': 0, 'total_pages': 2, 'format': 'PDF 1.7', 'title': '', 'author': 'Jorge Angel Juarez Vazquez', 'subject': '', 'keywords': '', 'creator': 'OCRmyPDF 16.5.0 / Tesseract OCR-hOCR 5.4.1', 'producer': 'pikepdf 9.2.0', 'creationDate': \"D:20241008160621+00'00'\", 'modDate': \"D:20241008162240+00'00'\", 'trapped': ''}, page_content='Titulo\\nEncabezado 1\\nPara empezar ahora mismo, pulse el texto de cualquier marcador de posición (como este, por\\nejemplo) y comience a escribir.\\nPara aplicar facilmente cualquier formato de texto que vea en esta pagina, vaya al grupo\\nEstilos, que encontrara en la pestana Inicio de la cinta de opciones.\\n¢ Desea insertar una imagen de sus archivos o agregar una forma o un cuadro de texto?\\n¡Adelante! En la pestaña Insertar de la cinta de opciones, pulse la opción que necesite.\\n')"
      ]
     },
     "execution_count": 27,
     "metadata": {},
     "output_type": "execute_result"
    }
   ],
   "source": [
    "docs = loader.load()\n",
    "docs[0]"
   ]
  },
  {
   "cell_type": "code",
   "execution_count": 28,
   "metadata": {},
   "outputs": [],
   "source": [
    "docs[0].metadata = {\"title\": \"Example PDF\", \"author\": \"John Doe\"}\n",
    "new_metadata = docs[1].metadata"
   ]
  },
  {
   "cell_type": "code",
   "execution_count": 29,
   "metadata": {},
   "outputs": [
    {
     "data": {
      "text/plain": [
       "{'source': '/Users/jorge-jrzz/Desktop/PT/RAG-api-rest/dev/example.pdf',\n",
       " 'file_path': '/Users/jorge-jrzz/Desktop/PT/RAG-api-rest/dev/example.pdf',\n",
       " 'page': 1,\n",
       " 'total_pages': 2,\n",
       " 'format': 'PDF 1.7',\n",
       " 'title': '',\n",
       " 'author': 'Jorge Angel Juarez Vazquez',\n",
       " 'subject': '',\n",
       " 'keywords': '',\n",
       " 'creator': 'OCRmyPDF 16.5.0 / Tesseract OCR-hOCR 5.4.1',\n",
       " 'producer': 'pikepdf 9.2.0',\n",
       " 'creationDate': \"D:20241008160621+00'00'\",\n",
       " 'modDate': \"D:20241008162240+00'00'\",\n",
       " 'trapped': ''}"
      ]
     },
     "execution_count": 29,
     "metadata": {},
     "output_type": "execute_result"
    }
   ],
   "source": [
    "new_metadata"
   ]
  },
  {
   "cell_type": "code",
   "execution_count": 31,
   "metadata": {},
   "outputs": [
    {
     "data": {
      "text/plain": [
       "{'source': 'example.pdf',\n",
       " 'page': 1,\n",
       " 'author': 'Jorge Angel Juarez Vazquez',\n",
       " 'namespace': 'Espacio definido'}"
      ]
     },
     "execution_count": 31,
     "metadata": {},
     "output_type": "execute_result"
    }
   ],
   "source": [
    "from pathlib import Path\n",
    "\n",
    "mm = {\n",
    "    'source': Path(docs[1].metadata['source']).name,\n",
    "    'page': docs[1].metadata['page'],\n",
    "    'author': docs[1].metadata['author'],\n",
    "    'namespace': 'Espacio definido'\n",
    "}\n",
    "mm"
   ]
  },
  {
   "cell_type": "code",
   "execution_count": null,
   "metadata": {},
   "outputs": [
    {
     "data": {
      "text/plain": [
       "[Document(metadata={'source': './example.pdf', 'page': 0, 'author': 'Jorge Angel Juarez Vazquez', 'namespace': 'Espacio definido'}, page_content='Titulo\\nEncabezado 1\\nPara empezar ahora mismo, pulse el texto de cualquier marcador de posición (como este, por\\nejemplo) y comience a escribir.\\nPara aplicar facilmente cualquier formato de texto que vea en esta pagina, vaya al grupo\\nEstilos, que encontrara en la pestana Inicio de la cinta de opciones.\\n¢ Desea insertar una imagen de sus archivos o agregar una forma o un cuadro de texto?\\n¡Adelante! En la pestaña Insertar de la cinta de opciones, pulse la opción que necesite.\\n'),\n",
       " Document(metadata={'source': './example.pdf', 'page': 1, 'author': 'Jorge Angel Juarez Vazquez', 'namespace': 'Espacio definido'}, page_content='Esto es texto que esta en una imagen, en la segunda\\npagina del documento, a continuación, información sobre\\nlos perros:\\nEl perro, llamado perro doméstico o can, y en algunos\\nlugares coloquialmente llamado chucho, tuso, choco,\\nentre otros; es un mamifero carnivoro de la familia de los\\ncanidos, que constituye una especie del género Canis.\\n')]"
      ]
     },
     "execution_count": 21,
     "metadata": {},
     "output_type": "execute_result"
    }
   ],
   "source": [
    "file_content = []\n",
    "for doc in loader.lazy_load():\n",
    "    doc.metadata = {\n",
    "        'source': doc.metadata['source'],\n",
    "        'page': doc.metadata['page'],\n",
    "        'author': doc.metadata['author'],\n",
    "        'namespace': 'Espacio definido'\n",
    "    }\n",
    "    file_content.append(doc)\n",
    "\n",
    "\n",
    "file_content"
   ]
  },
  {
   "cell_type": "code",
   "execution_count": 32,
   "metadata": {},
   "outputs": [],
   "source": [
    "\"\"\"\n",
    "This module provides functionalities for Optical Character Recognition (OCR).\n",
    "\"\"\"\n",
    "\n",
    "import subprocess\n",
    "from pathlib import Path\n",
    "from typing import List\n",
    "from langchain_community.document_loaders import PyMuPDFLoader\n",
    "from langchain_core.documents import Document\n",
    "\n",
    "\n",
    "class LoadFile:\n",
    "    @staticmethod\n",
    "    def _ocr_pdf(input_pdf: str, output_pdf: str , language='eng+spa') -> None:\n",
    "        \"\"\"\n",
    "        Adds an OCR text layer to scanned PDF files, allowing them to be searched using OCRmyPDF.\n",
    "\n",
    "        Args: \n",
    "            input_pdf (str): The path to the input PDF file.\n",
    "            output_pdf (str): The path to the output PDF file.\n",
    "            language (str): The language(s) to use for OCR. Default is 'eng+spa' (English and Spanish).\n",
    "        \n",
    "        Returns:\n",
    "            None\n",
    "        \"\"\"\n",
    "        try:\n",
    "            # Construir el comando\n",
    "            comando = [\n",
    "                'ocrmypdf',\n",
    "                '-l', language,\n",
    "                '--force-ocr',\n",
    "                '--jobs', '6',  # Número de trabajos en paralelo\n",
    "                '--output-type', 'pdf',\n",
    "                input_pdf,\n",
    "                output_pdf\n",
    "            ]\n",
    "\n",
    "            # Ejecutar el comando\n",
    "            subprocess.run(comando, check=True)\n",
    "            print(f\"OCR aplicado exitosamente a {input_pdf}. Salida: {output_pdf}\")\n",
    "        except subprocess.CalledProcessError as e:\n",
    "            print(f\"Error al aplicar OCR: {e}\")\n",
    "\n",
    "    @classmethod\n",
    "    def load_file(cls, file_path: str, namespace: str) -> List[Document]:\n",
    "        loader = PyMuPDFLoader(file_path)\n",
    "        source = Path(file_path).name\n",
    "        file_content = []\n",
    "        for doc in loader.lazy_load():\n",
    "            doc.metadata = {\n",
    "                'source': source,\n",
    "                'page': doc.metadata['page'],\n",
    "                'author': doc.metadata['author'],\n",
    "                'namespace': namespace\n",
    "            }\n",
    "            file_content.append(doc)\n",
    "\n",
    "        return file_content"
   ]
  },
  {
   "cell_type": "code",
   "execution_count": 33,
   "metadata": {},
   "outputs": [],
   "source": [
    "file = LoadFile().load_file('./example.pdf', 'jorgeang33@gmail.com')\n"
   ]
  },
  {
   "cell_type": "code",
   "execution_count": 34,
   "metadata": {},
   "outputs": [
    {
     "data": {
      "text/plain": [
       "[Document(metadata={'source': 'example.pdf', 'page': 0, 'author': 'Jorge Angel Juarez Vazquez', 'namespace': 'jorgeang33@gmail.com'}, page_content='Titulo\\nEncabezado 1\\nPara empezar ahora mismo, pulse el texto de cualquier marcador de posición (como este, por\\nejemplo) y comience a escribir.\\nPara aplicar facilmente cualquier formato de texto que vea en esta pagina, vaya al grupo\\nEstilos, que encontrara en la pestana Inicio de la cinta de opciones.\\n¢ Desea insertar una imagen de sus archivos o agregar una forma o un cuadro de texto?\\n¡Adelante! En la pestaña Insertar de la cinta de opciones, pulse la opción que necesite.\\n'),\n",
       " Document(metadata={'source': 'example.pdf', 'page': 1, 'author': 'Jorge Angel Juarez Vazquez', 'namespace': 'jorgeang33@gmail.com'}, page_content='Esto es texto que esta en una imagen, en la segunda\\npagina del documento, a continuación, información sobre\\nlos perros:\\nEl perro, llamado perro doméstico o can, y en algunos\\nlugares coloquialmente llamado chucho, tuso, choco,\\nentre otros; es un mamifero carnivoro de la familia de los\\ncanidos, que constituye una especie del género Canis.\\n')]"
      ]
     },
     "execution_count": 34,
     "metadata": {},
     "output_type": "execute_result"
    }
   ],
   "source": [
    "file"
   ]
  }
 ],
 "metadata": {
  "kernelspec": {
   "display_name": "zolkin-backend-dA_7IZFM",
   "language": "python",
   "name": "python3"
  },
  "language_info": {
   "codemirror_mode": {
    "name": "ipython",
    "version": 3
   },
   "file_extension": ".py",
   "mimetype": "text/x-python",
   "name": "python",
   "nbconvert_exporter": "python",
   "pygments_lexer": "ipython3",
   "version": "3.12.7"
  }
 },
 "nbformat": 4,
 "nbformat_minor": 2
}
