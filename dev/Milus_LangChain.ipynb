{
 "cells": [
  {
   "cell_type": "code",
   "execution_count": null,
   "metadata": {},
   "outputs": [],
   "source": [
    "%pip install -qU  langchain_milvus\n",
    "%pip install -qU langchain-openai"
   ]
  },
  {
   "cell_type": "code",
   "execution_count": 6,
   "metadata": {},
   "outputs": [],
   "source": [
    "import os\n",
    "from langchain_core.documents import Document\n",
    "from langchain_openai import OpenAIEmbeddings\n",
    "from langchain_milvus import Milvus\n",
    "\n",
    "\n",
    "# The easiest way is to use Milvus Lite where everything is stored in a local file.\n",
    "# If you have a Milvus server you can use the server URI such as \"http://localhost:19530\".\n",
    "URI = \"http://localhost:19530\"\n",
    "\n",
    "embeddings = OpenAIEmbeddings(model=\"text-embedding-3-large\", api_key=os.environ[\"OPENAI_API_KEY\"])\n",
    "\n",
    "docs = [\n",
    "    Document(metadata={'source': 'example.pdf', 'page': 0, 'author': 'Jorge Angel Juarez Vazquez', 'namespace': 'jorgeang33@gmail.com'}, page_content='Titulo\\nEncabezado 1\\nPara empezar ahora mismo, pulse el texto de cualquier marcador de posición (como este, por\\nejemplo) y comience a escribir.\\nPara aplicar facilmente cualquier formato de texto que vea en esta pagina, vaya al grupo\\nEstilos, que encontrara en la pestana Inicio de la cinta de opciones.\\n¢ Desea insertar una imagen de sus archivos o agregar una forma o un cuadro de texto?\\n¡Adelante! En la pestaña Insertar de la cinta de opciones, pulse la opción que necesite.\\n'),\n",
    "    Document(metadata={'source': 'example.pdf', 'page': 1, 'author': 'Jorge Angel Juarez Vazquez', 'namespace': 'jorgeang33@gmail.com'}, page_content='Esto es texto que esta en una imagen, en la segunda\\npagina del documento, a continuación, información sobre\\nlos perros:\\nEl perro, llamado perro doméstico o can, y en algunos\\nlugares coloquialmente llamado chucho, tuso, choco,\\nentre otros; es un mamifero carnivoro de la familia de los\\ncanidos, que constituye una especie del género Canis.\\n')\n",
    "]\n",
    "vectorstore = Milvus.from_documents(\n",
    "    docs, \n",
    "    embeddings,\n",
    "    collection_name=\"other_name\",\n",
    "    connection_args={\"uri\": URI},\n",
    "    drop_old=True,\n",
    "    auto_id=False,\n",
    "    primary_field=\"pk\", \n",
    "    partition_key_field=\"namespace\",  # Use the \"namespace\" field as the partition key\n",
    "    index_params={\"metric_type\": \"COSINE\"}\n",
    ")"
   ]
  },
  {
   "cell_type": "code",
   "execution_count": 25,
   "metadata": {},
   "outputs": [
    {
     "name": "stdout",
     "output_type": "stream",
     "text": [
      "{'source': 'example.pdf', 'page': 0, 'author': 'Jorge Angel Juarez Vazquez', 'namespace': 'jorgeang33@gmail.com'}\n",
      "{'source': 'example.pdf', 'page': 1, 'author': 'Jorge Angel Juarez Vazquez', 'namespace': 'jorgeang33@gmail.com'}\n"
     ]
    }
   ],
   "source": [
    "for doc in docs:\n",
    "    print(doc.metadata)"
   ]
  },
  {
   "cell_type": "code",
   "execution_count": 4,
   "metadata": {},
   "outputs": [
    {
     "name": "stdout",
     "output_type": "stream",
     "text": [
      "['-2014741237850642074', '8981368537327681524']\n"
     ]
    },
    {
     "data": {
      "text/plain": [
       "['-2014741237850642074', '8981368537327681524']"
      ]
     },
     "execution_count": 4,
     "metadata": {},
     "output_type": "execute_result"
    }
   ],
   "source": [
    "import json\n",
    "\n",
    "uuids = [str(hash(json.dumps(doc.metadata))) for doc in docs]\n",
    "print(uuids)\n",
    "\n",
    "vectorstore.add_documents(docs, ids=uuids)"
   ]
  },
  {
   "cell_type": "code",
   "execution_count": null,
   "metadata": {},
   "outputs": [],
   "source": [
    "import os\n",
    "import json\n",
    "\n",
    "from typing import Optional, List, Any\n",
    "\n",
    "from langchain_core.documents import Document\n",
    "from langchain_openai import OpenAIEmbeddings\n",
    "from langchain_milvus import Milvus\n",
    "\n",
    "\n",
    "class MilvusStorage:\n",
    "    def __init__(self, collection_name):\n",
    "        self.milvus_url = os.getenv(\"MILVUS_URL\")\n",
    "        self.embeddings_model = OpenAIEmbeddings(model=os.getenv(\"EMBEDDINGS_MODEL\"), api_key=os.getenv(\"OPENAI_API_KEY\"))\n",
    "        self.collection_name = collection_name\n",
    "    \n",
    "    def create_collection(self, partition_key_field: str = \"namespace\") -> Optional[Milvus]:\n",
    "        try:\n",
    "            vectorstore = Milvus(\n",
    "                self.embeddings_model,\n",
    "                collection_name=self.collection_name,\n",
    "                connection_args={\"uri\": self.milvus_url},\n",
    "                drop_old=True,\n",
    "                auto_id=False,\n",
    "                primary_field=\"pk\", \n",
    "                index_params={\"metric_type\": \"COSINE\"}, \n",
    "                partition_key_field=partition_key_field # Use the \"namespace\" field as the partition key\n",
    "            )\n",
    "            return vectorstore\n",
    "        except Exception as e:\n",
    "            print(f\"Error creating collection: {e}\")\n",
    "            return None\n",
    "\n",
    "    def insert_files(self, vectorstore: Milvus, docs: List[Document]) -> Optional[List[str]]:\n",
    "        try:\n",
    "            uuids = [str(hash(json.dumps(doc.metadata))) for doc in docs]\n",
    "            ids = vectorstore.add_documents(docs, ids=uuids)\n",
    "            return ids\n",
    "        except Exception as e:\n",
    "            print(f\"Error inserting documents: {e}\")\n",
    "        \n",
    "\n",
    "    def create_retriver(self, vectorstore: Milvus, namespace: str) -> Any:\n",
    "        try:\n",
    "            retriver = vectorstore.as_retriever(\n",
    "                search_kwargs = {\n",
    "                    \"expr\": f\"namespace: == '{namespace}'\", \n",
    "                    \"k\": 2, \n",
    "                    'metric_type': \"COSINE\",\n",
    "                    'score_threshold': 0.8\n",
    "                }\n",
    "            )\n",
    "            return retriver\n",
    "        except Exception as e:\n",
    "            print(f\"Error creating RAG: {e}\")"
   ]
  }
 ],
 "metadata": {
  "kernelspec": {
   "display_name": "zolkin-backend-dA_7IZFM",
   "language": "python",
   "name": "python3"
  },
  "language_info": {
   "codemirror_mode": {
    "name": "ipython",
    "version": 3
   },
   "file_extension": ".py",
   "mimetype": "text/x-python",
   "name": "python",
   "nbconvert_exporter": "python",
   "pygments_lexer": "ipython3",
   "version": "3.12.7"
  }
 },
 "nbformat": 4,
 "nbformat_minor": 2
}
