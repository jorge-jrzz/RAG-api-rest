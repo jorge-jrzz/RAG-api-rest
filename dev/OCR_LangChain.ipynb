{
 "cells": [
  {
   "cell_type": "code",
   "execution_count": null,
   "metadata": {},
   "outputs": [],
   "source": [
    "%pip install -qU langchain-community pymupdf"
   ]
  },
  {
   "cell_type": "code",
   "execution_count": 1,
   "metadata": {},
   "outputs": [],
   "source": [
    "\"\"\"\n",
    "This module provides functionalities for Optical Character Recognition (OCR) and text extraction from PDF files.\n",
    "\"\"\"\n",
    "\n",
    "import subprocess\n",
    "from pathlib import Path\n",
    "from typing import List\n",
    "from langchain_community.document_loaders import PyMuPDFLoader\n",
    "from langchain_core.documents import Document\n",
    "\n",
    "\n",
    "class LoadFile:\n",
    "    @staticmethod\n",
    "    def _ocr_pdf(input_pdf: str, output_pdf: str , language='eng+spa') -> None:\n",
    "        \"\"\"\n",
    "        Adds an OCR text layer to scanned PDF files, allowing them to be searched using OCRmyPDF.\n",
    "\n",
    "        Args: \n",
    "            input_pdf (str): The path to the input PDF file.\n",
    "            output_pdf (str): The path to the output PDF file.\n",
    "            language (str): The language(s) to use for OCR. Default is 'eng+spa' (English and Spanish).\n",
    "        \n",
    "        Returns:\n",
    "            None\n",
    "        \"\"\"\n",
    "        try:\n",
    "            # Construir el comando\n",
    "            comando = [\n",
    "                'ocrmypdf',\n",
    "                '-l', language,\n",
    "                '--force-ocr',\n",
    "                '--jobs', '6',  # Número de trabajos en paralelo\n",
    "                '--output-type', 'pdf',\n",
    "                input_pdf,\n",
    "                output_pdf\n",
    "            ]\n",
    "\n",
    "            # Ejecutar el comando\n",
    "            subprocess.run(comando, check=True)\n",
    "            print(f\"OCR aplicado exitosamente a {input_pdf}. Salida: {output_pdf}\")\n",
    "        except subprocess.CalledProcessError as e:\n",
    "            print(f\"Error al aplicar OCR: {e}\")\n",
    "\n",
    "    @classmethod\n",
    "    def load_file(cls, file_path: str, namespace: str) -> List[Document]:\n",
    "        loader = PyMuPDFLoader(file_path)\n",
    "        source = Path(file_path).name\n",
    "        file_content = []\n",
    "        for doc in loader.lazy_load():\n",
    "            doc.metadata = {\n",
    "                'namespace': namespace,\n",
    "                'source': source,\n",
    "                'page': doc.metadata['page'],\n",
    "                'author': doc.metadata['author'],\n",
    "            }\n",
    "            file_content.append(doc)\n",
    "\n",
    "        return file_content"
   ]
  },
  {
   "cell_type": "code",
   "execution_count": 2,
   "metadata": {},
   "outputs": [
    {
     "data": {
      "text/plain": [
       "[Document(metadata={'namespace': 'jorgeang33@gmail.com', 'source': 'example.pdf', 'page': 0, 'author': 'Jorge Angel Juarez Vazquez'}, page_content='Titulo\\nEncabezado 1\\nPara empezar ahora mismo, pulse el texto de cualquier marcador de posición (como este, por\\nejemplo) y comience a escribir.\\nPara aplicar facilmente cualquier formato de texto que vea en esta pagina, vaya al grupo\\nEstilos, que encontrara en la pestana Inicio de la cinta de opciones.\\n¢ Desea insertar una imagen de sus archivos o agregar una forma o un cuadro de texto?\\n¡Adelante! En la pestaña Insertar de la cinta de opciones, pulse la opción que necesite.\\n'),\n",
       " Document(metadata={'namespace': 'jorgeang33@gmail.com', 'source': 'example.pdf', 'page': 1, 'author': 'Jorge Angel Juarez Vazquez'}, page_content='Esto es texto que esta en una imagen, en la segunda\\npagina del documento, a continuación, información sobre\\nlos perros:\\nEl perro, llamado perro doméstico o can, y en algunos\\nlugares coloquialmente llamado chucho, tuso, choco,\\nentre otros; es un mamifero carnivoro de la familia de los\\ncanidos, que constituye una especie del género Canis.\\n')]"
      ]
     },
     "execution_count": 2,
     "metadata": {},
     "output_type": "execute_result"
    }
   ],
   "source": [
    "file = LoadFile().load_file('./example.pdf', 'jorgeang33@gmail.com')\n",
    "file"
   ]
  }
 ],
 "metadata": {
  "kernelspec": {
   "display_name": "zolkin-backend-dA_7IZFM",
   "language": "python",
   "name": "python3"
  },
  "language_info": {
   "codemirror_mode": {
    "name": "ipython",
    "version": 3
   },
   "file_extension": ".py",
   "mimetype": "text/x-python",
   "name": "python",
   "nbconvert_exporter": "python",
   "pygments_lexer": "ipython3",
   "version": "3.12.7"
  }
 },
 "nbformat": 4,
 "nbformat_minor": 2
}
