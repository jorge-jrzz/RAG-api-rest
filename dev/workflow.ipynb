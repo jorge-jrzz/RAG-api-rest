{
 "cells": [
  {
   "cell_type": "code",
   "execution_count": 1,
   "metadata": {},
   "outputs": [],
   "source": [
    "from rag import FileManager, AcceptedFiles, Another, MilvusStorage, LoadFile"
   ]
  },
  {
   "cell_type": "markdown",
   "metadata": {},
   "source": [
    "### 1. Descargar el archivo\n",
    "### 2. Determinar si el archivo es de tipo PDF:"
   ]
  },
  {
   "cell_type": "code",
   "execution_count": 2,
   "metadata": {},
   "outputs": [
    {
     "data": {
      "text/plain": [
       "'fff/example.pdf'"
      ]
     },
     "execution_count": 2,
     "metadata": {},
     "output_type": "execute_result"
    }
   ],
   "source": [
    "file = \"example.docx\"\n",
    "\n",
    "file_manager = FileManager()\n",
    "acceyepted_files = AcceptedFiles()\n",
    "another = Another()\n",
    "\n",
    "if file.lower().endswith(\"pdf\"):\n",
    "    file_manager.set_strategy(acceyepted_files)\n",
    "else:\n",
    "    file_manager.set_strategy(another)\n",
    "\n",
    "file_manager.execute_strategy(file, dst_dir=\"./fff\")"
   ]
  },
  {
   "cell_type": "markdown",
   "metadata": {},
   "source": [
    "### 3. OCR y extracción de texto"
   ]
  },
  {
   "cell_type": "code",
   "execution_count": 3,
   "metadata": {},
   "outputs": [
    {
     "name": "stderr",
     "output_type": "stream",
     "text": [
      "This PDF is marked as a Tagged PDF. This often indicates that the PDF was generated from an office document and does not need OCR. PDF pages processed by OCRmyPDF may not be tagged correctly.\n",
      "Start processing 2 pages concurrently\n",
      "    1 page already has text! - rasterizing text and running OCR anyway\n",
      "    2 page already has text! - rasterizing text and running OCR anyway\n",
      "Postprocessing...\n",
      "Image optimization ratio: 1.16 savings: 14.1%\n",
      "Total file size ratio: 0.13 savings: -656.3%\n"
     ]
    },
    {
     "name": "stdout",
     "output_type": "stream",
     "text": [
      "OCR aplicado exitosamente a ./fff/example.pdf. Salida: ./fff/example.pdf\n"
     ]
    }
   ],
   "source": [
    "LoadFile.ocr_pdf(\"./fff/example.pdf\", \"./fff/example.pdf\")\n",
    "file_content = LoadFile.load_file(\"./fff/example.pdf\", \"juanito\")"
   ]
  },
  {
   "cell_type": "markdown",
   "metadata": {},
   "source": [
    "### 4. Crear el RAG con los datos extraídos"
   ]
  },
  {
   "cell_type": "code",
   "execution_count": 4,
   "metadata": {},
   "outputs": [
    {
     "data": {
      "text/plain": [
       "['380ec20fa67d520c496daabecd5f4d9566651324bba30016fe11af4913f219e3',\n",
       " 'b0c0022f25fde9a9ffce2f82e69b8290b8377274e880fa3e5bef1cba5dc992b8']"
      ]
     },
     "execution_count": 4,
     "metadata": {},
     "output_type": "execute_result"
    }
   ],
   "source": [
    "file_content = LoadFile.load_file(\"./fff/example.pdf\", \"juanito\")\n",
    "\n",
    "storage = MilvusStorage(collection_name=\"example\")\n",
    "vectorstorage = storage.use_collection(partition_key_field=\"juanito\")\n",
    "storage.upsert_files(vectorstorage, file_content)"
   ]
  },
  {
   "cell_type": "code",
   "execution_count": 5,
   "metadata": {},
   "outputs": [],
   "source": [
    "tool = storage.create_retriver_tool(vectorstorage, \"juanito\")"
   ]
  },
  {
   "cell_type": "code",
   "execution_count": 6,
   "metadata": {},
   "outputs": [
    {
     "data": {
      "text/plain": [
       "'Titulo\\nEncabezado 1\\nPara empezar ahora mismo, pulse el texto de cualquier marcador de posición (como este, por\\nejemplo) y comience a escribir.\\nPara aplicar facilmente cualquier formato de texto que vea en esta pagina, vaya al grupo\\nEstilos, que encontrara en la pestana Inicio de la cinta de opciones.\\n¿Desea insertar una imagen de sus archivos o agregar una forma o un cuadro de texto?\\n¡Adelante! En la pestana Insertar de la cinta de opciones, pulse la opción que necesite.\\n\\n\\nEsto es texto que esta en una imagen, en la segunda\\npagina del documento, a continuación, informacion sobre\\nlos perros:\\nEl perro, llamado perro doméstico o can, y en algunos\\nlugares coloquialmente llamado chucho, tuso, choco,\\nentre otros; es un mamifero carnivoro de la familia de los\\ncánidos, que constituye una especie del género Canis.\\n'"
      ]
     },
     "execution_count": 6,
     "metadata": {},
     "output_type": "execute_result"
    }
   ],
   "source": [
    "tool.invoke(\"Texto en una imagen\")"
   ]
  }
 ],
 "metadata": {
  "kernelspec": {
   "display_name": "RAG-api-rest-jbX_kNQS",
   "language": "python",
   "name": "python3"
  },
  "language_info": {
   "codemirror_mode": {
    "name": "ipython",
    "version": 3
   },
   "file_extension": ".py",
   "mimetype": "text/x-python",
   "name": "python",
   "nbconvert_exporter": "python",
   "pygments_lexer": "ipython3",
   "version": "3.12.7"
  }
 },
 "nbformat": 4,
 "nbformat_minor": 2
}
