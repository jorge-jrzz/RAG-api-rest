{
 "cells": [
  {
   "cell_type": "code",
   "execution_count": null,
   "metadata": {},
   "outputs": [],
   "source": [
    "%pip install -qU  langchain_milvus\n",
    "%pip install -qU langchain-openai"
   ]
  },
  {
   "cell_type": "code",
   "execution_count": 19,
   "metadata": {},
   "outputs": [],
   "source": [
    "import os\n",
    "import json\n",
    "\n",
    "import hashlib\n",
    "from typing import Optional, List, Any, Set\n",
    "\n",
    "from pymilvus import MilvusClient, Collection, connections, utility\n",
    "\n",
    "from langchain.tools.retriever import create_retriever_tool\n",
    "from langchain_core.documents import Document\n",
    "from langchain_openai import OpenAIEmbeddings\n",
    "from langchain_milvus import Milvus\n",
    "\n",
    "\n",
    "class MilvusStorage:\n",
    "    def __init__(self, collection_name):\n",
    "        self.milvus_url = os.getenv(\"MILVUS_URL\")\n",
    "        self.embeddings_model = OpenAIEmbeddings(model=os.getenv(\"EMBEDDINGS_MODEL\"), api_key=os.getenv(\"OPENAI_API_KEY\"))\n",
    "        self.collection_name = collection_name\n",
    "\n",
    "    def _deterministic_hash(self, text: str) -> str:\n",
    "        text_bytes = text.encode('utf-8')\n",
    "        hash_object = hashlib.sha256(text_bytes)\n",
    "        return hash_object.hexdigest()\n",
    "    \n",
    "    def _delete_by_ids(self, ids: List[str]) -> None:\n",
    "        try:\n",
    "            client = MilvusClient(uri=self.milvus_url)\n",
    "            client.load_collection(self.collection_name)\n",
    "            res = client.get(\n",
    "                collection_name=self.collection_name,\n",
    "                ids=ids\n",
    "            )\n",
    "            if len(res) != 0: \n",
    "                client.delete(\n",
    "                    collection_name=self.collection_name,\n",
    "                    ids=ids\n",
    "                )\n",
    "            else:\n",
    "                print(\"No documents to delete.\")\n",
    "                return\n",
    "            client.close()\n",
    "        except Exception as e:\n",
    "            print(f\"Error deleting documents by ids: {e}\")\n",
    "\n",
    "    def _get_unique_filenames(self, namespace: str) -> Set[str]:\n",
    "        connections.connect(\"default\", uri=self.milvus_url)\n",
    "        collection = Collection(self.collection_name)\n",
    "        results = collection.query( \n",
    "            expr=f\"namespace == '{namespace}'\", \n",
    "            output_fields=[\"source\"]\n",
    "        ) \n",
    "        names = [r['source'] for r in results]\n",
    "        connections.disconnect(\"default\")\n",
    "        return set(names)\n",
    "    \n",
    "    def use_collection(self, partition_key_field: str = \"namespace\") -> Optional[Milvus]:\n",
    "        try:\n",
    "            connections.connect(\"default\", uri=self.milvus_url) \n",
    "            collections = utility.list_collections()\n",
    "            if self.collection_name in collections:\n",
    "                drop_old = False\n",
    "            else:\n",
    "                drop_old = True\n",
    "            connections.disconnect(\"default\")\n",
    "\n",
    "            return Milvus(\n",
    "                self.embeddings_model,\n",
    "                collection_name=self.collection_name,\n",
    "                connection_args={\"uri\": self.milvus_url},\n",
    "                drop_old=drop_old,\n",
    "                auto_id=False,\n",
    "                primary_field=\"primary_key\", \n",
    "                index_params={\"metric_type\": \"COSINE\"}, \n",
    "                partition_key_field=partition_key_field # Use the \"namespace\" field as the partition key\n",
    "            )\n",
    "            # return vectorstore\n",
    "        except Exception as e:\n",
    "            print(f\"Error for use a collection: {e}\")\n",
    "            return None\n",
    "\n",
    "    def upsert_files(self, vectorstore: Milvus, docs: List[Document]) -> Optional[List[str]]:\n",
    "        if docs is None or len(docs) == 0:\n",
    "            print(\"No documents to upsert.\")\n",
    "            return None\n",
    "        try:\n",
    "            uuids = [self._deterministic_hash(json.dumps(doc.metadata)) for doc in docs]\n",
    "            self._delete_by_ids(uuids)\n",
    "            ids = vectorstore.add_documents(docs, ids=uuids)\n",
    "            return ids\n",
    "        except Exception as e:\n",
    "            print(f\"Error upserting documents: {e}\")\n",
    "\n",
    "    def update_tool_description(self, namespace: str) -> str:\n",
    "        return (\n",
    "            \"A Retrieval Augmented Generation tool using Milvus. \"\n",
    "            \"This vector storage contains data from the following files: \\n\"\n",
    "            f\"{self._get_unique_filenames(namespace)}\"\n",
    "        )\n",
    "\n",
    "    def create_retriver_tool(self, vectorstore: Milvus, namespace: str) -> Any:\n",
    "        try:\n",
    "            retriever = vectorstore.as_retriever(\n",
    "                search_kwargs = {\n",
    "                    \"expr\": f\"namespace == '{namespace}'\",\n",
    "                    \"k\": 2, \n",
    "                    'metric_type': \"COSINE\",\n",
    "                    'score_threshold': 0.8\n",
    "                }\n",
    "            )\n",
    "            retriever_tool = create_retriever_tool(\n",
    "                retriever, \n",
    "                name=\"Milvus_RAG\",\n",
    "                description=self.update_tool_description(namespace)\n",
    "            )\n",
    "            return retriever_tool\n",
    "        except Exception as e:\n",
    "            print(f\"Error creating RAG: {e}\")\n",
    "            return None\n"
   ]
  },
  {
   "cell_type": "code",
   "execution_count": 20,
   "metadata": {},
   "outputs": [
    {
     "data": {
      "text/plain": [
       "['0ebd82980be226af76f968981119f9327556e4f5ba81ca582006e6eea756a4e6',\n",
       " '638fb4b4aa284b7074d7243c8d1cf7458adec991337234d3ba153c0062eff667']"
      ]
     },
     "execution_count": 20,
     "metadata": {},
     "output_type": "execute_result"
    }
   ],
   "source": [
    "docs = [\n",
    "    Document(metadata={'namespace': 'jorgeang33@gmail.com', 'source': 'example.pdf', 'page': 0, 'author': 'Jorge Angel Juarez Vazquez'}, page_content='Titulo\\nEncabezado 1\\nPara empezar ahora mismo, pulse el texto de cualquier marcador de posición (como este, por\\nejemplo) y comience a escribir.\\nPara aplicar facilmente cualquier formato de texto que vea en esta pagina, vaya al grupo\\nEstilos, que encontrara en la pestana Inicio de la cinta de opciones.\\n¢ Desea insertar una imagen de sus archivos o agregar una forma o un cuadro de texto?\\n¡Adelante! En la pestaña Insertar de la cinta de opciones, pulse la opción que necesite.\\n'),\n",
    "    Document(metadata={'namespace': 'jorgeang33@gmail.com', 'source': 'example.pdf', 'page': 1, 'author': 'Jorge Angel Juarez Vazquez'}, page_content='Esto es texto que esta en una imagen, en la segunda\\npagina del documento, a continuación, información sobre\\nlos perros:\\nEl perro, llamado perro doméstico o can, y en algunos\\nlugares coloquialmente llamado chucho, tuso, choco,\\nentre otros; es un mamifero carnivoro de la familia de los\\ncanidos, que constituye una especie del género Canis.\\n')\n",
    "]\n",
    "\n",
    "milvus = MilvusStorage(collection_name=\"example\")\n",
    "vector_storage = milvus.use_collection()\n",
    "milvus.upsert_files(vector_storage, docs)"
   ]
  },
  {
   "cell_type": "code",
   "execution_count": 21,
   "metadata": {},
   "outputs": [],
   "source": [
    "tool = milvus.create_retriver_tool(vector_storage, namespace=\"jorgeang33@gmail.com\")"
   ]
  },
  {
   "cell_type": "code",
   "execution_count": 22,
   "metadata": {},
   "outputs": [
    {
     "data": {
      "text/plain": [
       "'Titulo\\nEncabezado 1\\nPara empezar ahora mismo, pulse el texto de cualquier marcador de posición (como este, por\\nejemplo) y comience a escribir.\\nPara aplicar facilmente cualquier formato de texto que vea en esta pagina, vaya al grupo\\nEstilos, que encontrara en la pestana Inicio de la cinta de opciones.\\n¢ Desea insertar una imagen de sus archivos o agregar una forma o un cuadro de texto?\\n¡Adelante! En la pestaña Insertar de la cinta de opciones, pulse la opción que necesite.\\n\\n\\nTitulo\\nEncabezado 1\\nPara empezar ahora mismo, pulse el texto de cualquier marcador de posición (como este, por\\nejemplo) y comience a escribir.\\nPara aplicar facilmente cualquier formato de texto que vea en esta pagina, vaya al grupo\\nEstilos, que encontrara en la pestana Inicio de la cinta de opciones.\\n¢ Desea insertar una imagen de sus archivos o agregar una forma o un cuadro de texto?\\n¡Adelante! En la pestaña Insertar de la cinta de opciones, pulse la opción que necesite.\\n'"
      ]
     },
     "execution_count": 22,
     "metadata": {},
     "output_type": "execute_result"
    }
   ],
   "source": [
    "tool.invoke(\"Texto en una imagen\")"
   ]
  },
  {
   "cell_type": "code",
   "execution_count": 23,
   "metadata": {},
   "outputs": [
    {
     "data": {
      "text/plain": [
       "Tool(name='Milvus_RAG', description=\"A Retrieval Augmented Generation tool using Milvus. This vector storage contains data from the following files: \\n{'perros.pdf', 'example.pdf', 'juanetes.pdf'}\", args_schema=<class 'langchain_core.tools.retriever.RetrieverInput'>, func=functools.partial(<function _get_relevant_documents at 0x130cdf380>, retriever=VectorStoreRetriever(tags=['Milvus', 'OpenAIEmbeddings'], vectorstore=<langchain_milvus.vectorstores.milvus.Milvus object at 0x1380d3800>, search_kwargs={'expr': \"namespace == 'jorgeang33@gmail.com'\", 'k': 2, 'metric_type': 'COSINE', 'score_threshold': 0.8}), document_prompt=PromptTemplate(input_variables=['page_content'], input_types={}, partial_variables={}, template='{page_content}'), document_separator='\\n\\n'), coroutine=functools.partial(<function _aget_relevant_documents at 0x14006ca40>, retriever=VectorStoreRetriever(tags=['Milvus', 'OpenAIEmbeddings'], vectorstore=<langchain_milvus.vectorstores.milvus.Milvus object at 0x1380d3800>, search_kwargs={'expr': \"namespace == 'jorgeang33@gmail.com'\", 'k': 2, 'metric_type': 'COSINE', 'score_threshold': 0.8}), document_prompt=PromptTemplate(input_variables=['page_content'], input_types={}, partial_variables={}, template='{page_content}'), document_separator='\\n\\n'))"
      ]
     },
     "execution_count": 23,
     "metadata": {},
     "output_type": "execute_result"
    }
   ],
   "source": [
    "tool"
   ]
  }
 ],
 "metadata": {
  "kernelspec": {
   "display_name": "RAG-api-rest-jbX_kNQS",
   "language": "python",
   "name": "python3"
  },
  "language_info": {
   "codemirror_mode": {
    "name": "ipython",
    "version": 3
   },
   "file_extension": ".py",
   "mimetype": "text/x-python",
   "name": "python",
   "nbconvert_exporter": "python",
   "pygments_lexer": "ipython3",
   "version": "3.12.7"
  }
 },
 "nbformat": 4,
 "nbformat_minor": 2
}
