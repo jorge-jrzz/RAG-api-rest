{
 "cells": [
  {
   "cell_type": "code",
   "execution_count": null,
   "metadata": {},
   "outputs": [],
   "source": [
    "%pip install -qU  langchain_milvus\n",
    "%pip install -qU langchain-openai"
   ]
  },
  {
   "cell_type": "code",
   "execution_count": null,
   "metadata": {},
   "outputs": [],
   "source": [
    "import os\n",
    "import json\n",
    "\n",
    "from typing import Optional, List, Any\n",
    "\n",
    "from langchain_core.documents import Document\n",
    "from langchain_openai import OpenAIEmbeddings\n",
    "from langchain_milvus import Milvus\n",
    "\n",
    "\n",
    "class MilvusStorage:\n",
    "    def __init__(self, collection_name):\n",
    "        self.milvus_url = os.getenv(\"MILVUS_URL\")\n",
    "        self.embeddings_model = OpenAIEmbeddings(model=os.getenv(\"EMBEDDINGS_MODEL\"), api_key=os.getenv(\"OPENAI_API_KEY\"))\n",
    "        self.collection_name = collection_name\n",
    "    \n",
    "    def create_collection(self, partition_key_field: str = \"namespace\") -> Optional[Milvus]:\n",
    "        try:\n",
    "            vectorstore = Milvus(\n",
    "                self.embeddings_model,\n",
    "                collection_name=self.collection_name,\n",
    "                connection_args={\"uri\": self.milvus_url},\n",
    "                drop_old=True,\n",
    "                auto_id=False,\n",
    "                primary_field=\"pk\", \n",
    "                index_params={\"metric_type\": \"COSINE\"}, \n",
    "                partition_key_field=partition_key_field # Use the \"namespace\" field as the partition key\n",
    "            )\n",
    "            return vectorstore\n",
    "        except Exception as e:\n",
    "            print(f\"Error creating collection: {e}\")\n",
    "            return None\n",
    "\n",
    "    def insert_files(self, vectorstore: Milvus, docs: List[Document]) -> Optional[List[str]]:\n",
    "        try:\n",
    "            uuids = [str(hash(json.dumps(doc.metadata))) for doc in docs]\n",
    "            ids = vectorstore.upsert(documents=docs, ids=uuids)\n",
    "            return ids\n",
    "        except Exception as e:\n",
    "            print(f\"Error inserting documents: {e}\")\n",
    "        \n",
    "\n",
    "    def create_retriver(self, vectorstore: Milvus, namespace: str) -> Any:\n",
    "        try:\n",
    "            retriver = vectorstore.as_retriever(\n",
    "                search_kwargs = {\n",
    "                    \"expr\": f\"namespace == '{namespace}'\",\n",
    "                    \"k\": 2, \n",
    "                    'metric_type': \"COSINE\",\n",
    "                    'score_threshold': 0.8\n",
    "                }\n",
    "            )\n",
    "            return retriver\n",
    "        except Exception as e:\n",
    "            print(f\"Error creating RAG: {e}\")"
   ]
  },
  {
   "cell_type": "code",
   "execution_count": 18,
   "metadata": {},
   "outputs": [
    {
     "data": {
      "text/plain": [
       "['9173623458401502104', '-9088355280838447519']"
      ]
     },
     "execution_count": 18,
     "metadata": {},
     "output_type": "execute_result"
    }
   ],
   "source": [
    "docs = [\n",
    "    Document(metadata={'namespace': 'jorgeang33@gmail.com', 'source': 'example.pdf', 'page': 0, 'author': 'Jorge Angel Juarez Vazquez'}, page_content='Titulo\\nEncabezado 1\\nPara empezar ahora mismo, pulse el texto de cualquier marcador de posición (como este, por\\nejemplo) y comience a escribir.\\nPara aplicar facilmente cualquier formato de texto que vea en esta pagina, vaya al grupo\\nEstilos, que encontrara en la pestana Inicio de la cinta de opciones.\\n¢ Desea insertar una imagen de sus archivos o agregar una forma o un cuadro de texto?\\n¡Adelante! En la pestaña Insertar de la cinta de opciones, pulse la opción que necesite.\\n'),\n",
    "    Document(metadata={'namespace': 'jorgeang33@gmail.com', 'source': 'example.pdf', 'page': 1, 'author': 'Jorge Angel Juarez Vazquez'}, page_content='Esto es texto que esta en una imagen, en la segunda\\npagina del documento, a continuación, información sobre\\nlos perros:\\nEl perro, llamado perro doméstico o can, y en algunos\\nlugares coloquialmente llamado chucho, tuso, choco,\\nentre otros; es un mamifero carnivoro de la familia de los\\ncanidos, que constituye una especie del género Canis.\\n')\n",
    "]\n",
    "\n",
    "storage = MilvusStorage(collection_name=\"Prueba\")\n",
    "vectorstore = storage.create_collection()\n",
    "ids = storage.insert_files(vectorstore, docs)\n",
    "ids"
   ]
  },
  {
   "cell_type": "code",
   "execution_count": 22,
   "metadata": {},
   "outputs": [
    {
     "data": {
      "text/plain": [
       "[Document(metadata={'pk': '-9088355280838447519', 'namespace': 'jorgeang33@gmail.com', 'source': 'example.pdf', 'page': 1, 'author': 'Jorge Angel Juarez Vazquez'}, page_content='Esto es texto que esta en una imagen, en la segunda\\npagina del documento, a continuación, información sobre\\nlos perros:\\nEl perro, llamado perro doméstico o can, y en algunos\\nlugares coloquialmente llamado chucho, tuso, choco,\\nentre otros; es un mamifero carnivoro de la familia de los\\ncanidos, que constituye una especie del género Canis.\\n'),\n",
       " Document(metadata={'pk': '9173623458401502104', 'namespace': 'jorgeang33@gmail.com', 'source': 'example.pdf', 'page': 0, 'author': 'Jorge Angel Juarez Vazquez'}, page_content='Titulo\\nEncabezado 1\\nPara empezar ahora mismo, pulse el texto de cualquier marcador de posición (como este, por\\nejemplo) y comience a escribir.\\nPara aplicar facilmente cualquier formato de texto que vea en esta pagina, vaya al grupo\\nEstilos, que encontrara en la pestana Inicio de la cinta de opciones.\\n¢ Desea insertar una imagen de sus archivos o agregar una forma o un cuadro de texto?\\n¡Adelante! En la pestaña Insertar de la cinta de opciones, pulse la opción que necesite.\\n')]"
      ]
     },
     "execution_count": 22,
     "metadata": {},
     "output_type": "execute_result"
    }
   ],
   "source": [
    "retriver = storage.create_retriver(vectorstore, 'jorgeang33@gmail.com')\n",
    "retriver.invoke(\"texto de la segunda pagina\")"
   ]
  },
  {
   "cell_type": "code",
   "execution_count": null,
   "metadata": {},
   "outputs": [],
   "source": [
    "from langchain.tools.retriever import create_retriever_tool\n",
    "\n",
    "retriever_tool = create_retriever_tool(\n",
    "    retriever,\n",
    "    name=\"milvus_retriever\",\n",
    "    description=\"A retriever tool using Milvus\",\n",
    ")\n",
    "\n",
    "tools = [retriever_tool]"
   ]
  }
 ],
 "metadata": {
  "kernelspec": {
   "display_name": "zolkin-backend-dA_7IZFM",
   "language": "python",
   "name": "python3"
  },
  "language_info": {
   "codemirror_mode": {
    "name": "ipython",
    "version": 3
   },
   "file_extension": ".py",
   "mimetype": "text/x-python",
   "name": "python",
   "nbconvert_exporter": "python",
   "pygments_lexer": "ipython3",
   "version": "3.12.7"
  }
 },
 "nbformat": 4,
 "nbformat_minor": 2
}
