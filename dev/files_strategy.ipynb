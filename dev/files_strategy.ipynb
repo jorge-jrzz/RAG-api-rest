{
 "cells": [
  {
   "cell_type": "markdown",
   "metadata": {},
   "source": [
    "## Conversion de documentos con LibreOffice\n",
    "\n",
    "#### Correr el contenedor de LibreOffice\n",
    "\n",
    "```bash\n",
    "docker run -p 2004:2004 --name unoserver libreofficedocker/libreoffice-unoserver:3.19\n",
    "```\n",
    "\n",
    "*More info about the image: https://github.com/libreofficedocker/unoserver-rest-api*"
   ]
  },
  {
   "cell_type": "code",
   "execution_count": null,
   "metadata": {},
   "outputs": [],
   "source": [
    "# Dependencies\n",
    "\n",
    "%pip install requests"
   ]
  },
  {
   "cell_type": "code",
   "execution_count": 1,
   "metadata": {},
   "outputs": [],
   "source": [
    "import os\n",
    "import shutil\n",
    "from abc import ABC, abstractmethod\n",
    "from pathlib import Path\n",
    "from typing import Optional\n",
    "import requests\n",
    "from requests.exceptions import RequestException\n",
    "\n",
    "\n",
    "class Strategy(ABC):\n",
    "    @abstractmethod\n",
    "    def execute(self, src_path: str, dst_path: Optional[str] = None, dst_dir: Optional[str] = None):\n",
    "        pass\n",
    "\n",
    "class AcceptedFiles(Strategy):\n",
    "    def execute(self, src_path: str, dst_path: Optional[str] = None, dst_dir: Optional[str] = None):\n",
    "        if dst_path and dst_dir:\n",
    "            print(\"Error: dst_path and dir_name cannot be used at the same time\")\n",
    "            return\n",
    "        if dst_path:\n",
    "            shutil.move(src_path, dst_path)\n",
    "        elif dst_dir:\n",
    "            try:\n",
    "                # Crear el directorio destino si no existe\n",
    "                os.makedirs(os.path.dirname(dst_dir), exist_ok=True)\n",
    "\n",
    "                # Mover el archivo\n",
    "                shutil.move(src_path, dst_dir)\n",
    "            except Exception as e:\n",
    "                print(\"Error moving the file: \", e)\n",
    "\n",
    "\n",
    "class Another(Strategy):\n",
    "    def execute(self, src_path: str, dst_path: Optional[str] = None, dst_dir: Optional[str] = None):\n",
    "        if dst_path and dst_dir:\n",
    "            print(\"Error: dst_path and dir_name cannot be used at the same time\")\n",
    "            return\n",
    "        \n",
    "        libre_office_url = \"http://localhost:2004/request\"\n",
    "        with open(src_path, 'rb') as file:\n",
    "            files = {'file': file}\n",
    "            data = {'convert-to': 'pdf'}\n",
    "\n",
    "            try:\n",
    "                response = requests.post(url=libre_office_url, files=files, data=data, timeout=20)\n",
    "                response.raise_for_status()\n",
    "            except (RequestException, Exception) as e:\n",
    "                print(\"Error converting the file: \", e)\n",
    "\n",
    "        if dst_path:\n",
    "            with open(dst_path, 'wb') as output_file:\n",
    "                output_file.write(response.content)\n",
    "            print(\"Archivo convertido exitosamente y guardado en: \", dst_path)\n",
    "        elif dst_dir:\n",
    "            os.makedirs(os.path.dirname(dst_dir), exist_ok=True)\n",
    "            output_path = dst_dir + Path(src_path).stem + '.pdf'\n",
    "            with open(output_path, 'wb') as output_file:\n",
    "                output_file.write(response.content)\n",
    "            print(\"Archivo convertido exitosamente y guardado en: \", output_path)\n",
    "\n",
    "class FileManager:\n",
    "    def set_strategy(self, strategy: Strategy):\n",
    "        self._strategy = strategy\n",
    "\n",
    "    def execute_strategy(self, src_path: str, dst_path: Optional[str] = None, dst_dir: Optional[str] = None):\n",
    "        self._strategy.execute(src_path, dst_path, dst_dir)"
   ]
  },
  {
   "cell_type": "markdown",
   "metadata": {},
   "source": [
    "#### Ejemplo de uso"
   ]
  },
  {
   "cell_type": "code",
   "execution_count": null,
   "metadata": {},
   "outputs": [],
   "source": [
    "file_manager = FileManager()\n",
    "\n",
    "file_manager.set_strategy(AcceptedFiles())\n",
    "# file_manager.execute_strategy(\"./file.pdf\", dst_path=\"other full path\")\n",
    "# file_manager.execute_strategy(\"./file.pdf\", dst_dir=\"other directory path\")\n",
    "\n",
    "\n",
    "file_manager.set_strategy(Another())\n",
    "\n",
    "# file_manager.execute_strategy(\"./PresentacionSeminario.pptx\", dst_path=\"other full path\")\n",
    "file_manager.execute_strategy(\"./PresentacionSeminario.pptx\", dst_dir=\"other directory path\")"
   ]
  }
 ],
 "metadata": {
  "kernelspec": {
   "display_name": "zolkin-backend-dA_7IZFM",
   "language": "python",
   "name": "python3"
  },
  "language_info": {
   "codemirror_mode": {
    "name": "ipython",
    "version": 3
   },
   "file_extension": ".py",
   "mimetype": "text/x-python",
   "name": "python",
   "nbconvert_exporter": "python",
   "pygments_lexer": "ipython3",
   "version": "3.12.7"
  }
 },
 "nbformat": 4,
 "nbformat_minor": 2
}
